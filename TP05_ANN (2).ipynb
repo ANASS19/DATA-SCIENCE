{
  "nbformat": 4,
  "nbformat_minor": 0,
  "metadata": {
    "kernelspec": {
      "display_name": "Python 3",
      "language": "python",
      "name": "python3"
    },
    "language_info": {
      "codemirror_mode": {
        "name": "ipython",
        "version": 3
      },
      "file_extension": ".py",
      "mimetype": "text/x-python",
      "name": "python",
      "nbconvert_exporter": "python",
      "pygments_lexer": "ipython3",
      "version": "3.8.5"
    },
    "colab": {
      "name": "TP05_ANN.ipynb",
      "provenance": [],
      "collapsed_sections": [],
      "toc_visible": true
    },
    "accelerator": "GPU"
  },
  "cells": [
    {
      "cell_type": "markdown",
      "metadata": {
        "id": "dtOJFaLzaLet"
      },
      "source": [
        "# Les reseaux de neurones\n",
        "## I- Objectif\n",
        "\n",
        "1.  Comprendre la structure d'un reseau de neurone\n",
        "2.  Comprendre la mésure de selection d'attributs:\n",
        "3.  Créer et entrainer un perceptron multicouche en utilisant Scikit-learn\n",
        "4.  Utilisation des differentes metriques pour l'évaluation d'un modèle\n",
        "\n",
        "## II- Introduction\n",
        "Le perceptron multicouche est parmi les structures de réseaux de neurones les plus utilisés en classification. Ces structure ont été utilisé dans une multitude d’applications dans divers domaines. Il été aussi démontrer que ce type de réseaux de neurones est un approximateur universels grâce à leurs habilité d’approximer n’importe quelle fonction de n’importe quelle dimension et d’une précision arbitraire à condition de leurs présenter taux de données d’entrainement suffisant et adéquat et un bon choix de leurs structure.\n",
        "\n",
        "\n",
        "### 1- Le modèle d'un neurone\n",
        "\n",
        "Un model d’un neurone artificiel est montré dans la Figure ci dessous. Il se compose essentiellement d’un ensemble d’entrées $ x_{i} $ muni d’un poids $ w_{1i} $ pour chacune, une unité de calcule représentantle corps du neurone et une seul sortie. \n",
        "![image.png](attachment:image.png)\n",
        "La taille du vecteur d’entré est souvent augmenté en ajoutant une autre entrée $ x_{0}= -1 $ de poids b. Cette entrée supplémentaire s’appel un biais. La sortie du neurone j est la somme des $ x_{i} $ pondérés par les $ w_{ji} $ qui alimente l’entré d’une fonction d’activation f  comme montre l’équation suivante:\n",
        "$$ a=f(n)=f(W^{T}X-b)=f(\\sum_{i=0}^{R}w_{ji}x_{i}) $$\n",
        "\n",
        "Il existe plusieurs possibilités  pour le choix de la fonction d’activation. Le Tableau  suivant illustre un ensemble d’exemple des fonctions d’activation utilisables.\n",
        "![image-2.png](attachment:image-2.png)\n",
        "- La fonction seuil applique un seuil sur son entrée. Une entrée négative ne passe pas le seuil, dans ce cas la fonction retourne la valeur 0, alors qu’une entrée positive ou nulle, dépasse le seuil, et la fonction retourne 1. Le biais détermine l’emplacement du seuil où la fonction passe de 0 à 1. Dans le contexte des réseaux de neurones, cette fonction permet de prendre des décisions binaires.\n",
        "- La fonction linéaire est très simple, elle affecte directement son entrée à sa sortie.\n",
        "- La fonction d’activation tangente hyperbolique a la même forme que la fonction sigmoïde sauf que la fonction sigmoïde prend ses valeurs entre 0 et 1, alors que la tangente hyperbolique prend ses valeurs entre -1 et 1. Le paramètre β dans la fonction d’activation sigmoïde et la fonction d’activation tangente hyperbolique, détermine l’allure de ces deux fonctions en passant d’une fonction seuil pour β=1 à une fonction linéaire pour β=0.   \n",
        "### 2- Le perceptron simple\n",
        "Un perceptrone multicouche est un maillage de plusieurs neurones organisé en couches. Chaque couche contient S neurones connectés aux R entrées. On dit alors que la couche est totalement connectée. Un poids $ w_{ij} $ est associé à chacune des connexions. L’ensemble des poids d’une couche forme une matrice W de dimension S×R :\n",
        "![image-4.png](attachment:image-4.png)\n",
        "Dans cette matrice, le premier indice désigne le numéro de neurone sur la couche, alors que le deuxième indice désigne le numéro de l’entrée. Ainsi,  spécifie le poids de la connexion qui relie le neurone i à son entrée j. Si de plus on prend, $ n=[n_{1},n_{2},...,n_{S}]$, $ a=[a_{1},a_{2},...,a_{S}]$ et $ b=[b_{1},b_{2},...,b_{S}]$, alors nous obtiendrons une représentation simplifiée plus compacte illustrée à la figure.\n",
        "![image-3.png](attachment:image-3.png)\n",
        "\n",
        "\n",
        "### 3- Le perceptron multicouches\n",
        "\n",
        "Pour construire un perceptron multicouches, il suffit de combiner plusieurs couches comme montre la figure. Dans le cas général $ S^{1}\\neq S^{2} \\neq S^{3}$  et chaque couche possède sa propre matrice de poids $ w^{k} $  où k est l’indice de la couche. Ainsi que ces vecteurs $a^{k}, b^{k} et n^{k} $.\n",
        "En théorie, on peut enfiler autant de couche que l’on veut. Pour chaque couche (sauf celle d’entré et de sortie), on peut fixer un nombre quelconque de neurones. En pratique, il n’est pas souhaitable d’utiliser trop de neurones.\n",
        "Les réseaux multicouches sont plus puissants que les réseaux simples à une seule couche. Avec une couche cachée muni d’une fonction d’activation sigmoïde, on peut entraîner un réseau à produire une approximation de la plupart des fonctions, avec une précision arbitraire. Sauf dans des cas précis, les réseaux de neurones artificiels exploitent plus qu’une couche cachée.\n",
        "![image-5.png](attachment:image-5.png)\n",
        "\n",
        "\n",
        "### 4- Entrainement d'un perceptron multicouches\n",
        "Un perceptron multicouche est un réseau de neurone de type propagation vers l’avant (feed-forward). Ça signifie que l’information circule dans un seul sens, de l’entrée vers la sortie. Sons apprentissage est de type supervisé, par correction des erreurs. Le signal d’erreur est rétropropagé vers les entrées afin de mettre à jour les poids des neurones.\n",
        "Pour déterminé les poids et le biais, on commence par leurs affecter  des valeurs aléatoire puis pour chaque exemple d’entré/sortie $ (x,d) $ on effectue la mise à jour suivante :\n",
        "$$ W(t+1)=W(t)+\\Delta W $$\n",
        "$$ \\Delta W= eX^{T}$$\n",
        "$$  b(t+1)=b(t)+\\Delta b $$\n",
        "$$ \\Delta b= -e $$\n",
        "avec $ e=d-a $\n"
      ]
    },
    {
      "cell_type": "markdown",
      "metadata": {
        "id": "2SPnqyoYaLfD"
      },
      "source": [
        "## III- Applications\n",
        "### 1. indians diabetes database\n",
        "#### Q1. Chargement des données\n",
        "1- Construire un Dataframe ***data*** contenant les données stoker dans le fichier ***diabetes.csv***  https://www.kaggle.com/uciml/pima-indians-diabetes-database\n",
        "\n",
        "2- visualiser ce dataframe ainsi que les diferentes mesure sur ce dataframe"
      ]
    },
    {
      "cell_type": "code",
      "metadata": {
        "colab": {
          "base_uri": "https://localhost:8080/",
          "height": 359
        },
        "id": "Ype3C7tnaLfG",
        "outputId": "dadf2837-ba45-40ad-829d-72511072ef62"
      },
      "source": [
        "#created by anass nassiri\n",
        "# cet jupeter nootbook realise dans colab cloud google\n",
        "# les model traine avec cpu colab cloud google\n",
        "import pandas as pd \n",
        "import matplotlib.pyplot as plt\n",
        "import seaborn as sns\n",
        "df=pd.read_csv('/content/diabetes.csv')\n",
        "df.head(10)\n",
        "\n",
        "\n",
        "\n",
        "\n",
        "\n"
      ],
      "execution_count": 1,
      "outputs": [
        {
          "output_type": "execute_result",
          "data": {
            "text/html": [
              "<div>\n",
              "<style scoped>\n",
              "    .dataframe tbody tr th:only-of-type {\n",
              "        vertical-align: middle;\n",
              "    }\n",
              "\n",
              "    .dataframe tbody tr th {\n",
              "        vertical-align: top;\n",
              "    }\n",
              "\n",
              "    .dataframe thead th {\n",
              "        text-align: right;\n",
              "    }\n",
              "</style>\n",
              "<table border=\"1\" class=\"dataframe\">\n",
              "  <thead>\n",
              "    <tr style=\"text-align: right;\">\n",
              "      <th></th>\n",
              "      <th>Pregnancies</th>\n",
              "      <th>Glucose</th>\n",
              "      <th>BloodPressure</th>\n",
              "      <th>SkinThickness</th>\n",
              "      <th>Insulin</th>\n",
              "      <th>BMI</th>\n",
              "      <th>DiabetesPedigreeFunction</th>\n",
              "      <th>Age</th>\n",
              "      <th>Outcome</th>\n",
              "    </tr>\n",
              "  </thead>\n",
              "  <tbody>\n",
              "    <tr>\n",
              "      <th>0</th>\n",
              "      <td>6</td>\n",
              "      <td>148</td>\n",
              "      <td>72</td>\n",
              "      <td>35</td>\n",
              "      <td>0</td>\n",
              "      <td>33.6</td>\n",
              "      <td>0.627</td>\n",
              "      <td>50</td>\n",
              "      <td>1</td>\n",
              "    </tr>\n",
              "    <tr>\n",
              "      <th>1</th>\n",
              "      <td>1</td>\n",
              "      <td>85</td>\n",
              "      <td>66</td>\n",
              "      <td>29</td>\n",
              "      <td>0</td>\n",
              "      <td>26.6</td>\n",
              "      <td>0.351</td>\n",
              "      <td>31</td>\n",
              "      <td>0</td>\n",
              "    </tr>\n",
              "    <tr>\n",
              "      <th>2</th>\n",
              "      <td>8</td>\n",
              "      <td>183</td>\n",
              "      <td>64</td>\n",
              "      <td>0</td>\n",
              "      <td>0</td>\n",
              "      <td>23.3</td>\n",
              "      <td>0.672</td>\n",
              "      <td>32</td>\n",
              "      <td>1</td>\n",
              "    </tr>\n",
              "    <tr>\n",
              "      <th>3</th>\n",
              "      <td>1</td>\n",
              "      <td>89</td>\n",
              "      <td>66</td>\n",
              "      <td>23</td>\n",
              "      <td>94</td>\n",
              "      <td>28.1</td>\n",
              "      <td>0.167</td>\n",
              "      <td>21</td>\n",
              "      <td>0</td>\n",
              "    </tr>\n",
              "    <tr>\n",
              "      <th>4</th>\n",
              "      <td>0</td>\n",
              "      <td>137</td>\n",
              "      <td>40</td>\n",
              "      <td>35</td>\n",
              "      <td>168</td>\n",
              "      <td>43.1</td>\n",
              "      <td>2.288</td>\n",
              "      <td>33</td>\n",
              "      <td>1</td>\n",
              "    </tr>\n",
              "    <tr>\n",
              "      <th>5</th>\n",
              "      <td>5</td>\n",
              "      <td>116</td>\n",
              "      <td>74</td>\n",
              "      <td>0</td>\n",
              "      <td>0</td>\n",
              "      <td>25.6</td>\n",
              "      <td>0.201</td>\n",
              "      <td>30</td>\n",
              "      <td>0</td>\n",
              "    </tr>\n",
              "    <tr>\n",
              "      <th>6</th>\n",
              "      <td>3</td>\n",
              "      <td>78</td>\n",
              "      <td>50</td>\n",
              "      <td>32</td>\n",
              "      <td>88</td>\n",
              "      <td>31.0</td>\n",
              "      <td>0.248</td>\n",
              "      <td>26</td>\n",
              "      <td>1</td>\n",
              "    </tr>\n",
              "    <tr>\n",
              "      <th>7</th>\n",
              "      <td>10</td>\n",
              "      <td>115</td>\n",
              "      <td>0</td>\n",
              "      <td>0</td>\n",
              "      <td>0</td>\n",
              "      <td>35.3</td>\n",
              "      <td>0.134</td>\n",
              "      <td>29</td>\n",
              "      <td>0</td>\n",
              "    </tr>\n",
              "    <tr>\n",
              "      <th>8</th>\n",
              "      <td>2</td>\n",
              "      <td>197</td>\n",
              "      <td>70</td>\n",
              "      <td>45</td>\n",
              "      <td>543</td>\n",
              "      <td>30.5</td>\n",
              "      <td>0.158</td>\n",
              "      <td>53</td>\n",
              "      <td>1</td>\n",
              "    </tr>\n",
              "    <tr>\n",
              "      <th>9</th>\n",
              "      <td>8</td>\n",
              "      <td>125</td>\n",
              "      <td>96</td>\n",
              "      <td>0</td>\n",
              "      <td>0</td>\n",
              "      <td>0.0</td>\n",
              "      <td>0.232</td>\n",
              "      <td>54</td>\n",
              "      <td>1</td>\n",
              "    </tr>\n",
              "  </tbody>\n",
              "</table>\n",
              "</div>"
            ],
            "text/plain": [
              "   Pregnancies  Glucose  BloodPressure  ...  DiabetesPedigreeFunction  Age  Outcome\n",
              "0            6      148             72  ...                     0.627   50        1\n",
              "1            1       85             66  ...                     0.351   31        0\n",
              "2            8      183             64  ...                     0.672   32        1\n",
              "3            1       89             66  ...                     0.167   21        0\n",
              "4            0      137             40  ...                     2.288   33        1\n",
              "5            5      116             74  ...                     0.201   30        0\n",
              "6            3       78             50  ...                     0.248   26        1\n",
              "7           10      115              0  ...                     0.134   29        0\n",
              "8            2      197             70  ...                     0.158   53        1\n",
              "9            8      125             96  ...                     0.232   54        1\n",
              "\n",
              "[10 rows x 9 columns]"
            ]
          },
          "metadata": {
            "tags": []
          },
          "execution_count": 1
        }
      ]
    },
    {
      "cell_type": "code",
      "metadata": {
        "colab": {
          "base_uri": "https://localhost:8080/"
        },
        "id": "ggQ_zZEEcnIT",
        "outputId": "70fbe1ca-2638-4921-c45e-36bf20a53682"
      },
      "source": [
        "df.info()\n",
        "print(df.describe()\n",
        ")"
      ],
      "execution_count": 2,
      "outputs": [
        {
          "output_type": "stream",
          "text": [
            "<class 'pandas.core.frame.DataFrame'>\n",
            "RangeIndex: 768 entries, 0 to 767\n",
            "Data columns (total 9 columns):\n",
            " #   Column                    Non-Null Count  Dtype  \n",
            "---  ------                    --------------  -----  \n",
            " 0   Pregnancies               768 non-null    int64  \n",
            " 1   Glucose                   768 non-null    int64  \n",
            " 2   BloodPressure             768 non-null    int64  \n",
            " 3   SkinThickness             768 non-null    int64  \n",
            " 4   Insulin                   768 non-null    int64  \n",
            " 5   BMI                       768 non-null    float64\n",
            " 6   DiabetesPedigreeFunction  768 non-null    float64\n",
            " 7   Age                       768 non-null    int64  \n",
            " 8   Outcome                   768 non-null    int64  \n",
            "dtypes: float64(2), int64(7)\n",
            "memory usage: 54.1 KB\n",
            "       Pregnancies     Glucose  ...         Age     Outcome\n",
            "count   768.000000  768.000000  ...  768.000000  768.000000\n",
            "mean      3.845052  120.894531  ...   33.240885    0.348958\n",
            "std       3.369578   31.972618  ...   11.760232    0.476951\n",
            "min       0.000000    0.000000  ...   21.000000    0.000000\n",
            "25%       1.000000   99.000000  ...   24.000000    0.000000\n",
            "50%       3.000000  117.000000  ...   29.000000    0.000000\n",
            "75%       6.000000  140.250000  ...   41.000000    1.000000\n",
            "max      17.000000  199.000000  ...   81.000000    1.000000\n",
            "\n",
            "[8 rows x 9 columns]\n"
          ],
          "name": "stdout"
        }
      ]
    },
    {
      "cell_type": "code",
      "metadata": {
        "colab": {
          "base_uri": "https://localhost:8080/",
          "height": 716
        },
        "id": "HVgKvXdfcyzC",
        "outputId": "09207d28-a161-44a6-e367-8d7d0a632134"
      },
      "source": [
        "#visualisaton\n",
        "plt.figure(figsize=(10,10))\n",
        "sns.heatmap(df.corr(), cmap=\"YlGnBu\", annot= True,)\n",
        "plt.show()"
      ],
      "execution_count": 3,
      "outputs": [
        {
          "output_type": "display_data",
          "data": {
            "image/png": "[encoded data removed]",
            "text/plain": [
              "<Figure size 720x720 with 2 Axes>"
            ]
          },
          "metadata": {
            "tags": [],
            "needs_background": "light"
          }
        }
      ]
    },
    {
      "cell_type": "code",
      "metadata": {
        "colab": {
          "base_uri": "https://localhost:8080/",
          "height": 350
        },
        "id": "q2C8jA_sj4MK",
        "outputId": "dcb67668-d167-44e6-d3dd-8bb3d88ba6d5"
      },
      "source": [
        "sns.countplot(df['Outcome'],label=\"Count\")"
      ],
      "execution_count": 4,
      "outputs": [
        {
          "output_type": "stream",
          "text": [
            "/usr/local/lib/python3.7/dist-packages/seaborn/_decorators.py:43: FutureWarning: Pass the following variable as a keyword arg: x. From version 0.12, the only valid positional argument will be `data`, and passing other arguments without an explicit keyword will result in an error or misinterpretation.\n",
            "  FutureWarning\n"
          ],
          "name": "stderr"
        },
        {
          "output_type": "execute_result",
          "data": {
            "text/plain": [
              "<matplotlib.axes._subplots.AxesSubplot at 0x7f23fa729b10>"
            ]
          },
          "metadata": {
            "tags": []
          },
          "execution_count": 4
        },
        {
          "output_type": "display_data",
          "data": {
            "image/png": "[encoded data removed]",
            "text/plain": [
              "<Figure size 432x288 with 1 Axes>"
            ]
          },
          "metadata": {
            "tags": [],
            "needs_background": "light"
          }
        }
      ]
    },
    {
      "cell_type": "markdown",
      "metadata": {
        "id": "n3jbPgS0aLfH"
      },
      "source": [
        "#### Q2. Selection des caracteristiques\n",
        "Créer les deux dataframes:\n",
        "- X: le dataframe des entrée (4 colonnes parmit 8) \n",
        "- y: la sortie (outcome)"
      ]
    },
    {
      "cell_type": "code",
      "metadata": {
        "colab": {
          "base_uri": "https://localhost:8080/",
          "height": 359
        },
        "id": "uNkrMXOEaLfI",
        "outputId": "2fe85448-89db-459a-aef2-2dc0d19f75bd"
      },
      "source": [
        "X=df[['Pregnancies','Glucose','BMI','Age']]\n",
        "y=df[['Outcome']]\n",
        "X\n",
        "y.head(10)\n",
        "\n",
        "\n",
        "\n",
        "\n",
        "\n",
        "\n"
      ],
      "execution_count": 5,
      "outputs": [
        {
          "output_type": "execute_result",
          "data": {
            "text/html": [
              "<div>\n",
              "<style scoped>\n",
              "    .dataframe tbody tr th:only-of-type {\n",
              "        vertical-align: middle;\n",
              "    }\n",
              "\n",
              "    .dataframe tbody tr th {\n",
              "        vertical-align: top;\n",
              "    }\n",
              "\n",
              "    .dataframe thead th {\n",
              "        text-align: right;\n",
              "    }\n",
              "</style>\n",
              "<table border=\"1\" class=\"dataframe\">\n",
              "  <thead>\n",
              "    <tr style=\"text-align: right;\">\n",
              "      <th></th>\n",
              "      <th>Outcome</th>\n",
              "    </tr>\n",
              "  </thead>\n",
              "  <tbody>\n",
              "    <tr>\n",
              "      <th>0</th>\n",
              "      <td>1</td>\n",
              "    </tr>\n",
              "    <tr>\n",
              "      <th>1</th>\n",
              "      <td>0</td>\n",
              "    </tr>\n",
              "    <tr>\n",
              "      <th>2</th>\n",
              "      <td>1</td>\n",
              "    </tr>\n",
              "    <tr>\n",
              "      <th>3</th>\n",
              "      <td>0</td>\n",
              "    </tr>\n",
              "    <tr>\n",
              "      <th>4</th>\n",
              "      <td>1</td>\n",
              "    </tr>\n",
              "    <tr>\n",
              "      <th>5</th>\n",
              "      <td>0</td>\n",
              "    </tr>\n",
              "    <tr>\n",
              "      <th>6</th>\n",
              "      <td>1</td>\n",
              "    </tr>\n",
              "    <tr>\n",
              "      <th>7</th>\n",
              "      <td>0</td>\n",
              "    </tr>\n",
              "    <tr>\n",
              "      <th>8</th>\n",
              "      <td>1</td>\n",
              "    </tr>\n",
              "    <tr>\n",
              "      <th>9</th>\n",
              "      <td>1</td>\n",
              "    </tr>\n",
              "  </tbody>\n",
              "</table>\n",
              "</div>"
            ],
            "text/plain": [
              "   Outcome\n",
              "0        1\n",
              "1        0\n",
              "2        1\n",
              "3        0\n",
              "4        1\n",
              "5        0\n",
              "6        1\n",
              "7        0\n",
              "8        1\n",
              "9        1"
            ]
          },
          "metadata": {
            "tags": []
          },
          "execution_count": 5
        }
      ]
    },
    {
      "cell_type": "markdown",
      "metadata": {
        "id": "uULPB5O0aLfJ"
      },
      "source": [
        "#### Q3. Partitionner ces données en X_train, X_test, y_train, y_test"
      ]
    },
    {
      "cell_type": "code",
      "metadata": {
        "colab": {
          "base_uri": "https://localhost:8080/",
          "height": 359
        },
        "id": "BU8RaDDLaLfJ",
        "outputId": "6012f9a4-0d1c-46bf-a942-958bad15de67"
      },
      "source": [
        "from sklearn.model_selection import train_test_split\n",
        "X_train, X_test, y_train, y_test = train_test_split(X, y, test_size=0.2, random_state=42)\n",
        "\n",
        "y_train.head(10)\n"
      ],
      "execution_count": 6,
      "outputs": [
        {
          "output_type": "execute_result",
          "data": {
            "text/html": [
              "<div>\n",
              "<style scoped>\n",
              "    .dataframe tbody tr th:only-of-type {\n",
              "        vertical-align: middle;\n",
              "    }\n",
              "\n",
              "    .dataframe tbody tr th {\n",
              "        vertical-align: top;\n",
              "    }\n",
              "\n",
              "    .dataframe thead th {\n",
              "        text-align: right;\n",
              "    }\n",
              "</style>\n",
              "<table border=\"1\" class=\"dataframe\">\n",
              "  <thead>\n",
              "    <tr style=\"text-align: right;\">\n",
              "      <th></th>\n",
              "      <th>Outcome</th>\n",
              "    </tr>\n",
              "  </thead>\n",
              "  <tbody>\n",
              "    <tr>\n",
              "      <th>60</th>\n",
              "      <td>0</td>\n",
              "    </tr>\n",
              "    <tr>\n",
              "      <th>618</th>\n",
              "      <td>1</td>\n",
              "    </tr>\n",
              "    <tr>\n",
              "      <th>346</th>\n",
              "      <td>0</td>\n",
              "    </tr>\n",
              "    <tr>\n",
              "      <th>294</th>\n",
              "      <td>0</td>\n",
              "    </tr>\n",
              "    <tr>\n",
              "      <th>231</th>\n",
              "      <td>1</td>\n",
              "    </tr>\n",
              "    <tr>\n",
              "      <th>340</th>\n",
              "      <td>0</td>\n",
              "    </tr>\n",
              "    <tr>\n",
              "      <th>535</th>\n",
              "      <td>1</td>\n",
              "    </tr>\n",
              "    <tr>\n",
              "      <th>306</th>\n",
              "      <td>1</td>\n",
              "    </tr>\n",
              "    <tr>\n",
              "      <th>718</th>\n",
              "      <td>0</td>\n",
              "    </tr>\n",
              "    <tr>\n",
              "      <th>90</th>\n",
              "      <td>0</td>\n",
              "    </tr>\n",
              "  </tbody>\n",
              "</table>\n",
              "</div>"
            ],
            "text/plain": [
              "     Outcome\n",
              "60         0\n",
              "618        1\n",
              "346        0\n",
              "294        0\n",
              "231        1\n",
              "340        0\n",
              "535        1\n",
              "306        1\n",
              "718        0\n",
              "90         0"
            ]
          },
          "metadata": {
            "tags": []
          },
          "execution_count": 6
        }
      ]
    },
    {
      "cell_type": "markdown",
      "metadata": {
        "id": "CUhHiug5aLfK"
      },
      "source": [
        "#### Q4. Création, entrainement et évaluation du modèle\n",
        "1. Utiliser le classifieur ***MLPClassifier*** du module ***sklearn.neural_network*** pour initialiser et entrainer trois perceptrons:\n",
        "- avec une seule couche cachée de 8 neurones\n",
        "- avec deux couches cachées de (8,16) neurones\n",
        "- avec trois couches cachées.\n",
        "\n",
        "2. Afficher la matrice de confusion de ce modèle\n",
        "3. Calculer les trois metrics suivante:\n",
        ">- Accuracy\n",
        ">- Prcison\n",
        ">- recall\n",
        ">- F1 score\n",
        "\n",
        "de ce modèle (voir l'article suivant: https://towardsdatascience.com/accuracy-precision-recall-or-f1-331fb37c5cb9)"
      ]
    },
    {
      "cell_type": "code",
      "metadata": {
        "colab": {
          "base_uri": "https://localhost:8080/"
        },
        "id": "qBDYicY2aLfM",
        "outputId": "9b949d2c-092f-474b-adf6-74c142cc71d6"
      },
      "source": [
        "from sklearn.neural_network import MLPClassifier\n",
        "from sklearn.metrics import confusion_matrix,classification_report\n",
        "mlp1 = MLPClassifier(hidden_layer_sizes = (8,),max_iter=800).fit(X_train,y_train)\n",
        "y_pred1 = mlp1.predict(X_test)\n",
        "cm1 = confusion_matrix(y_test,y_pred1)\n",
        "print(cm1)\n",
        "print(classification_report(y_test,y_pred1))\n"
      ],
      "execution_count": 12,
      "outputs": [
        {
          "output_type": "stream",
          "text": [
            "/usr/local/lib/python3.7/dist-packages/sklearn/neural_network/_multilayer_perceptron.py:934: DataConversionWarning: A column-vector y was passed when a 1d array was expected. Please change the shape of y to (n_samples, ), for example using ravel().\n",
            "  y = column_or_1d(y, warn=True)\n"
          ],
          "name": "stderr"
        },
        {
          "output_type": "stream",
          "text": [
            "[[99  0]\n",
            " [55  0]]\n",
            "              precision    recall  f1-score   support\n",
            "\n",
            "           0       0.64      1.00      0.78        99\n",
            "           1       0.00      0.00      0.00        55\n",
            "\n",
            "    accuracy                           0.64       154\n",
            "   macro avg       0.32      0.50      0.39       154\n",
            "weighted avg       0.41      0.64      0.50       154\n",
            "\n"
          ],
          "name": "stdout"
        },
        {
          "output_type": "stream",
          "text": [
            "/usr/local/lib/python3.7/dist-packages/sklearn/metrics/_classification.py:1272: UndefinedMetricWarning: Precision and F-score are ill-defined and being set to 0.0 in labels with no predicted samples. Use `zero_division` parameter to control this behavior.\n",
            "  _warn_prf(average, modifier, msg_start, len(result))\n"
          ],
          "name": "stderr"
        }
      ]
    },
    {
      "cell_type": "code",
      "metadata": {
        "colab": {
          "base_uri": "https://localhost:8080/"
        },
        "id": "mgQcB-wUtvFr",
        "outputId": "ff32ed7f-2e7f-4e8a-c705-4c07df118c17"
      },
      "source": [
        "mlp2 = MLPClassifier(hidden_layer_sizes = (8,16),max_iter=800).fit(X_train,y_train)\n",
        "y_pred2 = mlp2.predict(X_test)\n",
        "cm2 = confusion_matrix(y_test,y_pred2)\n",
        "print(cm2)\n",
        "print(classification_report(y_test,y_pred2))\n"
      ],
      "execution_count": 14,
      "outputs": [
        {
          "output_type": "stream",
          "text": [
            "/usr/local/lib/python3.7/dist-packages/sklearn/neural_network/_multilayer_perceptron.py:934: DataConversionWarning: A column-vector y was passed when a 1d array was expected. Please change the shape of y to (n_samples, ), for example using ravel().\n",
            "  y = column_or_1d(y, warn=True)\n"
          ],
          "name": "stderr"
        },
        {
          "output_type": "stream",
          "text": [
            "[[97  2]\n",
            " [40 15]]\n",
            "              precision    recall  f1-score   support\n",
            "\n",
            "           0       0.71      0.98      0.82        99\n",
            "           1       0.88      0.27      0.42        55\n",
            "\n",
            "    accuracy                           0.73       154\n",
            "   macro avg       0.80      0.63      0.62       154\n",
            "weighted avg       0.77      0.73      0.68       154\n",
            "\n"
          ],
          "name": "stdout"
        }
      ]
    },
    {
      "cell_type": "code",
      "metadata": {
        "colab": {
          "base_uri": "https://localhost:8080/"
        },
        "id": "ZARlD3dalcDo",
        "outputId": "65887b1c-d306-4093-c79a-dd13011c6f08"
      },
      "source": [
        "mlp3 = MLPClassifier(hidden_layer_sizes = (8,16,8),max_iter=800).fit(X_train,y_train)y_pred3 = mlp3.predict(X_test)\n",
        "cm3 = confusion_matrix(y_test,y_pred3)\n",
        "print(cm3)\n",
        "print(classification_report(y_test,y_pred3))\n"
      ],
      "execution_count": 23,
      "outputs": [
        {
          "output_type": "stream",
          "text": [
            "/usr/local/lib/python3.7/dist-packages/sklearn/neural_network/_multilayer_perceptron.py:934: DataConversionWarning: A column-vector y was passed when a 1d array was expected. Please change the shape of y to (n_samples, ), for example using ravel().\n",
            "  y = column_or_1d(y, warn=True)\n"
          ],
          "name": "stderr"
        },
        {
          "output_type": "stream",
          "text": [
            "[[87 12]\n",
            " [26 29]]\n",
            "              precision    recall  f1-score   support\n",
            "\n",
            "           0       0.77      0.88      0.82        99\n",
            "           1       0.71      0.53      0.60        55\n",
            "\n",
            "    accuracy                           0.75       154\n",
            "   macro avg       0.74      0.70      0.71       154\n",
            "weighted avg       0.75      0.75      0.74       154\n",
            "\n"
          ],
          "name": "stdout"
        },
        {
          "output_type": "stream",
          "text": [
            "/usr/local/lib/python3.7/dist-packages/sklearn/neural_network/_multilayer_perceptron.py:934: DataConversionWarning: A column-vector y was passed when a 1d array was expected. Please change the shape of y to (n_samples, ), for example using ravel().\n",
            "  y = column_or_1d(y, warn=True)\n"
          ],
          "name": "stderr"
        }
      ]
    },
    {
      "cell_type": "markdown",
      "metadata": {
        "id": "8IKl_qINoq3N"
      },
      "source": [
        "**on remarque que plus il y a de couches cachées, plus la score,precision est grande**"
      ]
    },
    {
      "cell_type": "markdown",
      "metadata": {
        "id": "vgnybAu1aLfN"
      },
      "source": [
        "#### Q5. utilisation du modèle\n",
        "\n",
        "Mr Rachid a fait un bilon et a obtenu les resu Après un bilon Mr\n",
        "\n",
        "    Age: 22\n",
        "    Glucose: 79\n",
        "    BloodPressure: 69\n",
        "    Insulin: 31\n",
        "    BMI: 0.4\n",
        "\n",
        "Mr Rachid a-t-il un diabéte?\n",
        "Comparer le résultat avec celui obtenu avec un arbre de décision.\n"
      ]
    },
    {
      "cell_type": "markdown",
      "metadata": {
        "id": "JyvgD6j1aLfO"
      },
      "source": [
        "Documentation\n",
        "https://towardsdatascience.com/visualizing-the-mlp-a-composition-of-transformations-dec1c62d4eea"
      ]
    },
    {
      "cell_type": "code",
      "metadata": {
        "id": "Lxc1nBpdaLfO",
        "colab": {
          "base_uri": "https://localhost:8080/"
        },
        "outputId": "0d9df9c0-7835-412c-dc8d-fc988c571270"
      },
      "source": [
        "#model with 1 hidden layer\n",
        "Rachid={\"Age\": [22],\"Glucose\": [79],\"BMI\": [0.4],'Pregnancies':[0]}\n",
        "\n",
        "patient=pd.DataFrame(Rachid)\n",
        "y_pred1 = mlp1.predict(patient)\n",
        "\n",
        "print(y_pred1)\n",
        "\n",
        "\n",
        "\n",
        "\n"
      ],
      "execution_count": 30,
      "outputs": [
        {
          "output_type": "stream",
          "text": [
            "[0]\n"
          ],
          "name": "stdout"
        }
      ]
    },
    {
      "cell_type": "code",
      "metadata": {
        "colab": {
          "base_uri": "https://localhost:8080/"
        },
        "id": "dIHuF771q9Ie",
        "outputId": "ee56c54b-36a0-4f61-a458-d5b4153772e1"
      },
      "source": [
        "#model with 2 hidden layer\n",
        "patient=pd.DataFrame(Rachid)\n",
        "y_pred2 = mlp2.predict(patient)\n",
        "\n",
        "print(y_pred2)\n"
      ],
      "execution_count": 29,
      "outputs": [
        {
          "output_type": "stream",
          "text": [
            "[0]\n"
          ],
          "name": "stdout"
        }
      ]
    },
    {
      "cell_type": "code",
      "metadata": {
        "colab": {
          "base_uri": "https://localhost:8080/"
        },
        "id": "mdedjyJCq9dF",
        "outputId": "f3101841-6947-46e3-baed-e97b6360b8c3"
      },
      "source": [
        "#model with 3 hidden layer\n",
        "patient=pd.DataFrame(Rachid)\n",
        "y_pred3 = mlp3.predict(patient)\n",
        "\n",
        "print(y_pred3)\n"
      ],
      "execution_count": 28,
      "outputs": [
        {
          "output_type": "stream",
          "text": [
            "[0]\n"
          ],
          "name": "stdout"
        }
      ]
    },
    {
      "cell_type": "markdown",
      "metadata": {
        "id": "eb99cA-Krthu"
      },
      "source": [
        "**model preedict 0 donc Rachide n'est pas diabétique**"
      ]
    },
    {
      "cell_type": "code",
      "metadata": {
        "colab": {
          "base_uri": "https://localhost:8080/"
        },
        "id": "BBOg4pWZsWNE",
        "outputId": "44d4764a-75df-473d-96a4-a8ec6708bba6"
      },
      "source": [
        "#0.647 score of descion tree\n",
        "# 0.82 score of MLP clqssifier\n",
        "print(0.82-0.647)"
      ],
      "execution_count": 31,
      "outputs": [
        {
          "output_type": "stream",
          "text": [
            "0.17299999999999993\n"
          ],
          "name": "stdout"
        }
      ]
    },
    {
      "cell_type": "markdown",
      "metadata": {
        "id": "ohCzzWBerwMd"
      },
      "source": [
        "**We observe MLP perform better then Descion tree wth With a difference *0.17*** "
      ]
    },
    {
      "cell_type": "markdown",
      "metadata": {
        "id": "jce-fA3waLfP"
      },
      "source": [
        "### 2. MNIST database\n",
        "La base de données MNIST (Modified National Institute of Standards and Technology database) de chiffres manuscrits se compose d'un ensemble de 60 000 exemples d'entrainement et d'un ensemble de test de 10 000 exemples. Il s'agit d'un sous-ensemble d'un ensemble plus large disponible auprès du NIST. De plus, les images en noir et blanc du NIST ont été normalisées en taille et centrées pour s'insérer dans un cadre de délimitation de 28x28 pixels.\n",
        "#### Q1- Refaire les mémes étape pour construire un système de classification des chiffres manuscrits "
      ]
    },
    {
      "cell_type": "code",
      "metadata": {
        "id": "I-HmUTjRaLfQ"
      },
      "source": [
        "import pandas as pd\n",
        "import matplotlib.pyplot as plt\n",
        "import numpy as np\n",
        "import sklearn\n",
        "import keras\n",
        "from keras.datasets import mnist"
      ],
      "execution_count": 3,
      "outputs": []
    },
    {
      "cell_type": "code",
      "metadata": {
        "colab": {
          "base_uri": "https://localhost:8080/"
        },
        "id": "PJkhnnkvtmwc",
        "outputId": "70b6e9f5-3b7e-4f37-a2de-1d7a871a1d7a"
      },
      "source": [
        "(x_train, y_train), (x_test, y_test) = mnist.load_data()"
      ],
      "execution_count": 4,
      "outputs": [
        {
          "output_type": "stream",
          "text": [
            "Downloading data from https://storage.googleapis.com/tensorflow/tf-keras-datasets/mnist.npz\n",
            "11493376/11490434 [==============================] - 0s 0us/step\n"
          ],
          "name": "stdout"
        }
      ]
    },
    {
      "cell_type": "code",
      "metadata": {
        "colab": {
          "base_uri": "https://localhost:8080/",
          "height": 166
        },
        "id": "4Fy4guqxwhxY",
        "outputId": "9ac2189f-a419-49e0-bb2d-fc54a2c201b1"
      },
      "source": [
        "#prenons quelques échantillons a regarder\n",
        "randindices=np.random.randint(x_train.shape[0],size=3)\n",
        "plt.figure()\n",
        "plt.subplot(1,3,1)\n",
        "plt.imshow(x_train[randindices[0],:,:])\n",
        "plt.subplot(1,3,2)\n",
        "plt.imshow(x_train[randindices[1],:,:])\n",
        "plt.subplot(1,3,3)\n",
        "plt.imshow(x_train[randindices[2],:,:])"
      ],
      "execution_count": 5,
      "outputs": [
        {
          "output_type": "execute_result",
          "data": {
            "text/plain": [
              "<matplotlib.image.AxesImage at 0x7f3de594ca10>"
            ]
          },
          "metadata": {
            "tags": []
          },
          "execution_count": 5
        },
        {
          "output_type": "display_data",
          "data": {
            "image/png": "[encoded data removed]",
            "text/plain": [
              "<Figure size 432x288 with 3 Axes>"
            ]
          },
          "metadata": {
            "tags": [],
            "needs_background": "light"
          }
        }
      ]
    },
    {
      "cell_type": "code",
      "metadata": {
        "colab": {
          "base_uri": "https://localhost:8080/"
        },
        "id": "tPI36yyYw72q",
        "outputId": "65574bbb-6590-4ea0-bc0d-70beb098547e"
      },
      "source": [
        "# les equite des échantillons\n",
        "print(y_train[randindices[0]],y_train[randindices[1]],y_train[randindices[2]])"
      ],
      "execution_count": 6,
      "outputs": [
        {
          "output_type": "stream",
          "text": [
            "9 9 3\n"
          ],
          "name": "stdout"
        }
      ]
    },
    {
      "cell_type": "code",
      "metadata": {
        "colab": {
          "base_uri": "https://localhost:8080/"
        },
        "id": "8WMw6nLDxN2Y",
        "outputId": "05f1cb53-b662-4a7e-fde6-23f049b64dc9"
      },
      "source": [
        "x_train = x_train.reshape(60000, 784)\n",
        "x_test = x_test.reshape(10000, 784)\n",
        "x_train = x_train.astype('float32')\n",
        "x_test = x_test.astype('float32')\n",
        "x_train /= 255\n",
        "x_test /= 255\n",
        "print(x_train.shape[0], 'train samples')\n",
        "print(x_test.shape[0], 'test samples')"
      ],
      "execution_count": 7,
      "outputs": [
        {
          "output_type": "stream",
          "text": [
            "60000 train samples\n",
            "10000 test samples\n"
          ],
          "name": "stdout"
        }
      ]
    },
    {
      "cell_type": "code",
      "metadata": {
        "id": "CSDEjuVTxN5o"
      },
      "source": [
        "num_classes = 10\n",
        "y_train = keras.utils.to_categorical(y_train, num_classes)\n",
        "y_test = keras.utils.to_categorical(y_test, num_classes)"
      ],
      "execution_count": 8,
      "outputs": []
    },
    {
      "cell_type": "code",
      "metadata": {
        "colab": {
          "base_uri": "https://localhost:8080/"
        },
        "id": "hRNLORXUyYQU",
        "outputId": "f66a8bdd-5d2e-46b7-879e-0c415f0c4330"
      },
      "source": [
        "x_train.shape\n"
      ],
      "execution_count": 9,
      "outputs": [
        {
          "output_type": "execute_result",
          "data": {
            "text/plain": [
              "(60000, 784)"
            ]
          },
          "metadata": {
            "tags": []
          },
          "execution_count": 9
        }
      ]
    },
    {
      "cell_type": "code",
      "metadata": {
        "colab": {
          "base_uri": "https://localhost:8080/"
        },
        "id": "5qBkBfnNyjC0",
        "outputId": "cd2799cf-a901-4455-cd54-2da5a2552ae5"
      },
      "source": [
        "y_train.shape"
      ],
      "execution_count": 10,
      "outputs": [
        {
          "output_type": "execute_result",
          "data": {
            "text/plain": [
              "(60000, 10)"
            ]
          },
          "metadata": {
            "tags": []
          },
          "execution_count": 10
        }
      ]
    },
    {
      "cell_type": "code",
      "metadata": {
        "id": "mUQXKwTlxxD_"
      },
      "source": [
        "from sklearn.neural_network import MLPClassifier\n",
        "from sklearn.metrics import confusion_matrix,classification_report\n",
        "mlp1= MLPClassifier(activation='relu',hidden_layer_sizes = (8,),max_iter=800).fit(x_train,y_train)"
      ],
      "execution_count": 11,
      "outputs": []
    },
    {
      "cell_type": "code",
      "metadata": {
        "colab": {
          "base_uri": "https://localhost:8080/",
          "height": 166
        },
        "id": "nT7XK1rR2JEI",
        "outputId": "e3d64a30-ad36-406f-f06e-26dee1199c65"
      },
      "source": [
        "randindices=np.random.randint(x_test.shape[0],size=3)\n",
        "plt.figure()\n",
        "plt.subplot(1,3,1)\n",
        "plt.imshow(np.reshape(x_test[randindices[0],:],(28,28)), cmap='gray')\n",
        "plt.subplot(1,3,2)\n",
        "plt.imshow(np.reshape(x_test[randindices[1],:],(28,28)), cmap='gray')\n",
        "plt.subplot(1,3,3)\n",
        "plt.imshow(np.reshape(x_test[randindices[2],:],(28,28)), cmap='gray')"
      ],
      "execution_count": 13,
      "outputs": [
        {
          "output_type": "execute_result",
          "data": {
            "text/plain": [
              "<matplotlib.image.AxesImage at 0x7f3ddd299d90>"
            ]
          },
          "metadata": {
            "tags": []
          },
          "execution_count": 13
        },
        {
          "output_type": "display_data",
          "data": {
            "image/png": "[encoded data removed]",
            "text/plain": [
              "<Figure size 432x288 with 3 Axes>"
            ]
          },
          "metadata": {
            "tags": [],
            "needs_background": "light"
          }
        }
      ]
    },
    {
      "cell_type": "code",
      "metadata": {
        "colab": {
          "base_uri": "https://localhost:8080/"
        },
        "id": "v1OH7mD92O8y",
        "outputId": "1b135ced-1ea3-4980-f9be-d253bba9c879"
      },
      "source": [
        "predictions1=mlp1.predict(x_test)\n",
        "print(\"Le réseau reconnaît le chiffre \"+ str(np.argmax(predictions[randindices[0],:])) + ' avec une confiance ' + str(np.max(predictions[randindices[0],:]) * 100) + '%.')\n",
        "print(\"Le réseau reconnaît le chiffre \"+ str(np.argmax(predictions[randindices[1],:])) + ' avec une confiance ' + str(np.max(predictions[randindices[1],:]) * 100) + '%.')\n",
        "print(\"Le réseau reconnaît le chiffre \"+ str(np.argmax(predictions[randindices[2],:])) + ' avec une confiance ' + str(np.max(predictions[randindices[2],:]) * 100) + '%.')"
      ],
      "execution_count": 43,
      "outputs": [
        {
          "output_type": "stream",
          "text": [
            "Le réseau reconnaît le chiffre 8 avec une confiance 100%.\n",
            "Le réseau reconnaît le chiffre 9 avec une confiance 100%.\n",
            "Le réseau reconnaît le chiffre 6 avec une confiance 100%.\n"
          ],
          "name": "stdout"
        }
      ]
    },
    {
      "cell_type": "code",
      "metadata": {
        "colab": {
          "base_uri": "https://localhost:8080/"
        },
        "id": "J5kjlktEC4Ty",
        "outputId": "14112269-cb66-4065-d0c4-4f49e06b812a"
      },
      "source": [
        "cm = confusion_matrix(y_test.argmax(axis=1), predictions1.argmax(axis=1))\n",
        "cm\n",
        "print(classification_report(y_test.argmax(axis=1),predictions1.argmax(axis=1)))"
      ],
      "execution_count": 45,
      "outputs": [
        {
          "output_type": "stream",
          "text": [
            "              precision    recall  f1-score   support\n",
            "\n",
            "           0       0.57      0.99      0.72       980\n",
            "           1       0.98      0.96      0.97      1135\n",
            "           2       0.94      0.83      0.88      1032\n",
            "           3       0.94      0.81      0.88      1010\n",
            "           4       0.92      0.90      0.91       982\n",
            "           5       0.90      0.81      0.85       892\n",
            "           6       0.97      0.88      0.92       958\n",
            "           7       0.96      0.91      0.93      1028\n",
            "           8       0.92      0.80      0.85       974\n",
            "           9       0.95      0.88      0.91      1009\n",
            "\n",
            "    accuracy                           0.88     10000\n",
            "   macro avg       0.90      0.88      0.88     10000\n",
            "weighted avg       0.91      0.88      0.89     10000\n",
            "\n"
          ],
          "name": "stdout"
        }
      ]
    },
    {
      "cell_type": "code",
      "metadata": {
        "id": "E5IYZMdl1CKW"
      },
      "source": [
        "from sklearn.neural_network import MLPClassifier\n",
        "from sklearn.metrics import confusion_matrix,classification_report\n",
        "mlp2 = MLPClassifier(activation='relu',hidden_layer_sizes = (8,16),max_iter=800).fit(x_train,y_train)"
      ],
      "execution_count": 15,
      "outputs": []
    },
    {
      "cell_type": "code",
      "metadata": {
        "colab": {
          "base_uri": "https://localhost:8080/",
          "height": 166
        },
        "id": "MmjAJvIq2P5T",
        "outputId": "154ab876-cc16-4ea1-dc7c-39acd3f78872"
      },
      "source": [
        "randindices=np.random.randint(x_test.shape[0],size=3)\n",
        "plt.figure()\n",
        "plt.subplot(1,3,1)\n",
        "plt.imshow(np.reshape(x_test[randindices[0],:],(28,28)), cmap='gray')\n",
        "plt.subplot(1,3,2)\n",
        "plt.imshow(np.reshape(x_test[randindices[1],:],(28,28)), cmap='gray')\n",
        "plt.subplot(1,3,3)\n",
        "plt.imshow(np.reshape(x_test[randindices[2],:],(28,28)), cmap='gray')"
      ],
      "execution_count": 16,
      "outputs": [
        {
          "output_type": "execute_result",
          "data": {
            "text/plain": [
              "<matplotlib.image.AxesImage at 0x7f3ddd0c52d0>"
            ]
          },
          "metadata": {
            "tags": []
          },
          "execution_count": 16
        },
        {
          "output_type": "display_data",
          "data": {
            "image/png": "[encoded data removed]",
            "text/plain": [
              "<Figure size 432x288 with 3 Axes>"
            ]
          },
          "metadata": {
            "tags": [],
            "needs_background": "light"
          }
        }
      ]
    },
    {
      "cell_type": "code",
      "metadata": {
        "colab": {
          "base_uri": "https://localhost:8080/"
        },
        "id": "Ev3_ii3U2KYK",
        "outputId": "dade3cd9-8218-42a3-8c79-e05d6a5f06b2"
      },
      "source": [
        "predictions2=mlp2.predict(x_test)\n",
        "print(\"Le réseau reconnaît le chiffre \"+ str(np.argmax(predictions[randindices[0],:])) + ' avec une confiance ' + str(np.max(predictions[randindices[0],:]) * 100) + '%.')\n",
        "print(\"Le réseau reconnaît le chiffre \"+ str(np.argmax(predictions[randindices[1],:])) + ' avec une confiance ' + str(np.max(predictions[randindices[1],:]) * 100) + '%.')\n",
        "print(\"Le réseau reconnaît le chiffre \"+ str(np.argmax(predictions[randindices[2],:])) + ' avec une confiance ' + str(np.max(predictions[randindices[2],:]) * 100) + '%.')"
      ],
      "execution_count": 41,
      "outputs": [
        {
          "output_type": "stream",
          "text": [
            "Le réseau reconnaît le chiffre 8 avec une confiance 100%.\n",
            "Le réseau reconnaît le chiffre 9 avec une confiance 100%.\n",
            "Le réseau reconnaît le chiffre 6 avec une confiance 100%.\n"
          ],
          "name": "stdout"
        }
      ]
    },
    {
      "cell_type": "code",
      "metadata": {
        "colab": {
          "base_uri": "https://localhost:8080/"
        },
        "id": "cHjxOuI3ClLw",
        "outputId": "9086d6ea-b725-4c2a-f82b-7e2f94a3ff1d"
      },
      "source": [
        "cm = confusion_matrix(y_test.argmax(axis=1), predictions2.argmax(axis=1))\n",
        "cm\n",
        "print(classification_report(y_test.argmax(axis=1),predictions2.argmax(axis=1)))"
      ],
      "execution_count": 42,
      "outputs": [
        {
          "output_type": "stream",
          "text": [
            "              precision    recall  f1-score   support\n",
            "\n",
            "           0       0.72      0.98      0.83       980\n",
            "           1       0.97      0.97      0.97      1135\n",
            "           2       0.96      0.89      0.92      1032\n",
            "           3       0.94      0.88      0.91      1010\n",
            "           4       0.94      0.94      0.94       982\n",
            "           5       0.91      0.88      0.89       892\n",
            "           6       0.96      0.94      0.95       958\n",
            "           7       0.95      0.91      0.93      1028\n",
            "           8       0.94      0.88      0.91       974\n",
            "           9       0.96      0.90      0.93      1009\n",
            "\n",
            "    accuracy                           0.92     10000\n",
            "   macro avg       0.93      0.92      0.92     10000\n",
            "weighted avg       0.93      0.92      0.92     10000\n",
            "\n"
          ],
          "name": "stdout"
        }
      ]
    },
    {
      "cell_type": "code",
      "metadata": {
        "id": "UEtcIYTm1CfK"
      },
      "source": [
        "from sklearn.neural_network import MLPClassifier\n",
        "from sklearn.metrics import confusion_matrix,classification_report\n",
        "mlp3 = MLPClassifier(activation='relu',hidden_layer_sizes = (8,16,8),max_iter=800).fit(x_train,y_train)"
      ],
      "execution_count": 18,
      "outputs": []
    },
    {
      "cell_type": "code",
      "metadata": {
        "colab": {
          "base_uri": "https://localhost:8080/",
          "height": 166
        },
        "id": "V7J9kAOg2RKo",
        "outputId": "b3aa5c33-44d4-4ca9-8ac1-d3eb70c76aa0"
      },
      "source": [
        "randindices=np.random.randint(x_test.shape[0],size=3)\n",
        "plt.figure()\n",
        "plt.subplot(1,3,1)\n",
        "plt.imshow(np.reshape(x_test[randindices[0],:],(28,28)), cmap='gray')\n",
        "plt.subplot(1,3,2)\n",
        "plt.imshow(np.reshape(x_test[randindices[1],:],(28,28)), cmap='gray')\n",
        "plt.subplot(1,3,3)\n",
        "plt.imshow(np.reshape(x_test[randindices[2],:],(28,28)), cmap='gray')"
      ],
      "execution_count": 19,
      "outputs": [
        {
          "output_type": "execute_result",
          "data": {
            "text/plain": [
              "<matplotlib.image.AxesImage at 0x7f3ddcfca210>"
            ]
          },
          "metadata": {
            "tags": []
          },
          "execution_count": 19
        },
        {
          "output_type": "display_data",
          "data": {
            "image/png": "[encoded data removed]",
            "text/plain": [
              "<Figure size 432x288 with 3 Axes>"
            ]
          },
          "metadata": {
            "tags": [],
            "needs_background": "light"
          }
        }
      ]
    },
    {
      "cell_type": "code",
      "metadata": {
        "colab": {
          "base_uri": "https://localhost:8080/"
        },
        "id": "qJNvhoLN2K4g",
        "outputId": "e1a3fe84-e3db-44c4-d63b-93cb227c4bec"
      },
      "source": [
        "predictions=mlp3.predict(x_test)\n",
        "print(\"Le réseau reconnaît le chiffre \"+ str(np.argmax(predictions[randindices[0],:])) + ' avec une confiance ' + str(np.max(predictions[randindices[0],:]) * 100) + '%.')\n",
        "print(\"Le réseau reconnaît le chiffre \"+ str(np.argmax(predictions[randindices[1],:])) + ' avec une confiance ' + str(np.max(predictions[randindices[1],:]) * 100) + '%.')\n",
        "print(\"Le réseau reconnaît le chiffre \"+ str(np.argmax(predictions[randindices[2],:])) + ' avec une confiance ' + str(np.max(predictions[randindices[2],:]) * 100) + '%.')"
      ],
      "execution_count": 20,
      "outputs": [
        {
          "output_type": "stream",
          "text": [
            "Le réseau reconnaît le chiffre 8 avec une confiance 100%.\n",
            "Le réseau reconnaît le chiffre 9 avec une confiance 100%.\n",
            "Le réseau reconnaît le chiffre 6 avec une confiance 100%.\n"
          ],
          "name": "stdout"
        }
      ]
    },
    {
      "cell_type": "code",
      "metadata": {
        "colab": {
          "base_uri": "https://localhost:8080/"
        },
        "id": "DG7oTxG_7Akt",
        "outputId": "e35b2236-7650-418b-a34e-91ae0f71b7b4"
      },
      "source": [
        "cm = confusion_matrix(y_test.argmax(axis=1), predictions.argmax(axis=1))\n",
        "cm\n",
        "print(classification_report(y_test.argmax(axis=1),predictions.argmax(axis=1)))"
      ],
      "execution_count": 40,
      "outputs": [
        {
          "output_type": "stream",
          "text": [
            "              precision    recall  f1-score   support\n",
            "\n",
            "           0       0.78      0.98      0.87       980\n",
            "           1       0.98      0.97      0.97      1135\n",
            "           2       0.93      0.89      0.91      1032\n",
            "           3       0.90      0.92      0.91      1010\n",
            "           4       0.95      0.92      0.93       982\n",
            "           5       0.93      0.84      0.89       892\n",
            "           6       0.96      0.94      0.95       958\n",
            "           7       0.94      0.93      0.93      1028\n",
            "           8       0.94      0.89      0.91       974\n",
            "           9       0.93      0.90      0.92      1009\n",
            "\n",
            "    accuracy                           0.92     10000\n",
            "   macro avg       0.92      0.92      0.92     10000\n",
            "weighted avg       0.92      0.92      0.92     10000\n",
            "\n"
          ],
          "name": "stdout"
        }
      ]
    },
    {
      "cell_type": "markdown",
      "metadata": {
        "id": "nsoYAuGHDnBB"
      },
      "source": [
        "## **on remarque que plus il y a de couches cachées, plus la score,precision est grande**"
      ]
    },
    {
      "cell_type": "markdown",
      "metadata": {
        "id": "3esJYygkDNCT"
      },
      "source": [
        "### **We observe MLP perform better then Descion tree ** **bold text**"
      ]
    }
  ]
}