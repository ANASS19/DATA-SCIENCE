{
  "nbformat": 4,
  "nbformat_minor": 0,
  "metadata": {
    "kernelspec": {
      "display_name": "Python 3",
      "language": "python",
      "name": "python3"
    },
    "colab": {
      "name": "TP02_logistic.ipynb",
      "provenance": [],
      "collapsed_sections": []
    }
  },
  "cells": [
    {
      "cell_type": "markdown",
      "metadata": {
        "id": "d-zHpZymB1Qg"
      },
      "source": [
        "# TP2: Regression logistique\n",
        "\n",
        "## 1. Recuperation des données\n",
        "Les données sont stocker dans le fichier banking.csv. Ce dataset contient des information collecter par un centre d'appel pour savoir si un client souscrira (1/0) à un dépôt à terme (variable y) dans une baque.\n",
        "\n",
        "1-Recuperer les données de ce fichier dans un DataFrame data\n",
        "\n",
        "2-Afficher les 10 premiere ligne de ce dataframe\n",
        "\n",
        "3-Afficher le nombre de client par class (1/0)\n"
      ]
    },
    {
      "cell_type": "code",
      "metadata": {
        "colab": {
          "base_uri": "https://localhost:8080/",
          "height": 379
        },
        "id": "eyrTuIB1B1Qu",
        "outputId": "9c5d3c5a-8046-43fc-a478-d0f036be235b"
      },
      "source": [
        "#1\n",
        "import pandas as pd \n",
        "df=pd.read_csv('/banking.csv')\n",
        "#2\n",
        "df.head(10)\n",
        "\n",
        "\n",
        "\n",
        "\n",
        "\n"
      ],
      "execution_count": null,
      "outputs": [
        {
          "output_type": "execute_result",
          "data": {
            "text/html": [
              "<div>\n",
              "<style scoped>\n",
              "    .dataframe tbody tr th:only-of-type {\n",
              "        vertical-align: middle;\n",
              "    }\n",
              "\n",
              "    .dataframe tbody tr th {\n",
              "        vertical-align: top;\n",
              "    }\n",
              "\n",
              "    .dataframe thead th {\n",
              "        text-align: right;\n",
              "    }\n",
              "</style>\n",
              "<table border=\"1\" class=\"dataframe\">\n",
              "  <thead>\n",
              "    <tr style=\"text-align: right;\">\n",
              "      <th></th>\n",
              "      <th>age</th>\n",
              "      <th>job</th>\n",
              "      <th>marital</th>\n",
              "      <th>education</th>\n",
              "      <th>default</th>\n",
              "      <th>housing</th>\n",
              "      <th>loan</th>\n",
              "      <th>contact</th>\n",
              "      <th>month</th>\n",
              "      <th>day_of_week</th>\n",
              "      <th>duration</th>\n",
              "      <th>campaign</th>\n",
              "      <th>pdays</th>\n",
              "      <th>previous</th>\n",
              "      <th>poutcome</th>\n",
              "      <th>emp_var_rate</th>\n",
              "      <th>cons_price_idx</th>\n",
              "      <th>cons_conf_idx</th>\n",
              "      <th>euribor3m</th>\n",
              "      <th>nr_employed</th>\n",
              "      <th>y</th>\n",
              "    </tr>\n",
              "  </thead>\n",
              "  <tbody>\n",
              "    <tr>\n",
              "      <th>0</th>\n",
              "      <td>44</td>\n",
              "      <td>blue-collar</td>\n",
              "      <td>married</td>\n",
              "      <td>basic.4y</td>\n",
              "      <td>unknown</td>\n",
              "      <td>yes</td>\n",
              "      <td>no</td>\n",
              "      <td>cellular</td>\n",
              "      <td>aug</td>\n",
              "      <td>thu</td>\n",
              "      <td>210</td>\n",
              "      <td>1</td>\n",
              "      <td>999</td>\n",
              "      <td>0</td>\n",
              "      <td>nonexistent</td>\n",
              "      <td>1.4</td>\n",
              "      <td>93.444</td>\n",
              "      <td>-36.1</td>\n",
              "      <td>4.963</td>\n",
              "      <td>5228.1</td>\n",
              "      <td>0</td>\n",
              "    </tr>\n",
              "    <tr>\n",
              "      <th>1</th>\n",
              "      <td>53</td>\n",
              "      <td>technician</td>\n",
              "      <td>married</td>\n",
              "      <td>unknown</td>\n",
              "      <td>no</td>\n",
              "      <td>no</td>\n",
              "      <td>no</td>\n",
              "      <td>cellular</td>\n",
              "      <td>nov</td>\n",
              "      <td>fri</td>\n",
              "      <td>138</td>\n",
              "      <td>1</td>\n",
              "      <td>999</td>\n",
              "      <td>0</td>\n",
              "      <td>nonexistent</td>\n",
              "      <td>-0.1</td>\n",
              "      <td>93.200</td>\n",
              "      <td>-42.0</td>\n",
              "      <td>4.021</td>\n",
              "      <td>5195.8</td>\n",
              "      <td>0</td>\n",
              "    </tr>\n",
              "    <tr>\n",
              "      <th>2</th>\n",
              "      <td>28</td>\n",
              "      <td>management</td>\n",
              "      <td>single</td>\n",
              "      <td>university.degree</td>\n",
              "      <td>no</td>\n",
              "      <td>yes</td>\n",
              "      <td>no</td>\n",
              "      <td>cellular</td>\n",
              "      <td>jun</td>\n",
              "      <td>thu</td>\n",
              "      <td>339</td>\n",
              "      <td>3</td>\n",
              "      <td>6</td>\n",
              "      <td>2</td>\n",
              "      <td>success</td>\n",
              "      <td>-1.7</td>\n",
              "      <td>94.055</td>\n",
              "      <td>-39.8</td>\n",
              "      <td>0.729</td>\n",
              "      <td>4991.6</td>\n",
              "      <td>1</td>\n",
              "    </tr>\n",
              "    <tr>\n",
              "      <th>3</th>\n",
              "      <td>39</td>\n",
              "      <td>services</td>\n",
              "      <td>married</td>\n",
              "      <td>high.school</td>\n",
              "      <td>no</td>\n",
              "      <td>no</td>\n",
              "      <td>no</td>\n",
              "      <td>cellular</td>\n",
              "      <td>apr</td>\n",
              "      <td>fri</td>\n",
              "      <td>185</td>\n",
              "      <td>2</td>\n",
              "      <td>999</td>\n",
              "      <td>0</td>\n",
              "      <td>nonexistent</td>\n",
              "      <td>-1.8</td>\n",
              "      <td>93.075</td>\n",
              "      <td>-47.1</td>\n",
              "      <td>1.405</td>\n",
              "      <td>5099.1</td>\n",
              "      <td>0</td>\n",
              "    </tr>\n",
              "    <tr>\n",
              "      <th>4</th>\n",
              "      <td>55</td>\n",
              "      <td>retired</td>\n",
              "      <td>married</td>\n",
              "      <td>basic.4y</td>\n",
              "      <td>no</td>\n",
              "      <td>yes</td>\n",
              "      <td>no</td>\n",
              "      <td>cellular</td>\n",
              "      <td>aug</td>\n",
              "      <td>fri</td>\n",
              "      <td>137</td>\n",
              "      <td>1</td>\n",
              "      <td>3</td>\n",
              "      <td>1</td>\n",
              "      <td>success</td>\n",
              "      <td>-2.9</td>\n",
              "      <td>92.201</td>\n",
              "      <td>-31.4</td>\n",
              "      <td>0.869</td>\n",
              "      <td>5076.2</td>\n",
              "      <td>1</td>\n",
              "    </tr>\n",
              "    <tr>\n",
              "      <th>5</th>\n",
              "      <td>30</td>\n",
              "      <td>management</td>\n",
              "      <td>divorced</td>\n",
              "      <td>basic.4y</td>\n",
              "      <td>no</td>\n",
              "      <td>yes</td>\n",
              "      <td>no</td>\n",
              "      <td>cellular</td>\n",
              "      <td>jul</td>\n",
              "      <td>tue</td>\n",
              "      <td>68</td>\n",
              "      <td>8</td>\n",
              "      <td>999</td>\n",
              "      <td>0</td>\n",
              "      <td>nonexistent</td>\n",
              "      <td>1.4</td>\n",
              "      <td>93.918</td>\n",
              "      <td>-42.7</td>\n",
              "      <td>4.961</td>\n",
              "      <td>5228.1</td>\n",
              "      <td>0</td>\n",
              "    </tr>\n",
              "    <tr>\n",
              "      <th>6</th>\n",
              "      <td>37</td>\n",
              "      <td>blue-collar</td>\n",
              "      <td>married</td>\n",
              "      <td>basic.4y</td>\n",
              "      <td>no</td>\n",
              "      <td>yes</td>\n",
              "      <td>no</td>\n",
              "      <td>cellular</td>\n",
              "      <td>may</td>\n",
              "      <td>thu</td>\n",
              "      <td>204</td>\n",
              "      <td>1</td>\n",
              "      <td>999</td>\n",
              "      <td>0</td>\n",
              "      <td>nonexistent</td>\n",
              "      <td>-1.8</td>\n",
              "      <td>92.893</td>\n",
              "      <td>-46.2</td>\n",
              "      <td>1.327</td>\n",
              "      <td>5099.1</td>\n",
              "      <td>0</td>\n",
              "    </tr>\n",
              "    <tr>\n",
              "      <th>7</th>\n",
              "      <td>39</td>\n",
              "      <td>blue-collar</td>\n",
              "      <td>divorced</td>\n",
              "      <td>basic.9y</td>\n",
              "      <td>no</td>\n",
              "      <td>yes</td>\n",
              "      <td>no</td>\n",
              "      <td>cellular</td>\n",
              "      <td>may</td>\n",
              "      <td>fri</td>\n",
              "      <td>191</td>\n",
              "      <td>1</td>\n",
              "      <td>999</td>\n",
              "      <td>0</td>\n",
              "      <td>nonexistent</td>\n",
              "      <td>-1.8</td>\n",
              "      <td>92.893</td>\n",
              "      <td>-46.2</td>\n",
              "      <td>1.313</td>\n",
              "      <td>5099.1</td>\n",
              "      <td>0</td>\n",
              "    </tr>\n",
              "    <tr>\n",
              "      <th>8</th>\n",
              "      <td>36</td>\n",
              "      <td>admin.</td>\n",
              "      <td>married</td>\n",
              "      <td>university.degree</td>\n",
              "      <td>no</td>\n",
              "      <td>no</td>\n",
              "      <td>no</td>\n",
              "      <td>cellular</td>\n",
              "      <td>jun</td>\n",
              "      <td>mon</td>\n",
              "      <td>174</td>\n",
              "      <td>1</td>\n",
              "      <td>3</td>\n",
              "      <td>1</td>\n",
              "      <td>success</td>\n",
              "      <td>-2.9</td>\n",
              "      <td>92.963</td>\n",
              "      <td>-40.8</td>\n",
              "      <td>1.266</td>\n",
              "      <td>5076.2</td>\n",
              "      <td>1</td>\n",
              "    </tr>\n",
              "    <tr>\n",
              "      <th>9</th>\n",
              "      <td>27</td>\n",
              "      <td>blue-collar</td>\n",
              "      <td>single</td>\n",
              "      <td>basic.4y</td>\n",
              "      <td>no</td>\n",
              "      <td>yes</td>\n",
              "      <td>no</td>\n",
              "      <td>cellular</td>\n",
              "      <td>apr</td>\n",
              "      <td>thu</td>\n",
              "      <td>191</td>\n",
              "      <td>2</td>\n",
              "      <td>999</td>\n",
              "      <td>1</td>\n",
              "      <td>failure</td>\n",
              "      <td>-1.8</td>\n",
              "      <td>93.075</td>\n",
              "      <td>-47.1</td>\n",
              "      <td>1.410</td>\n",
              "      <td>5099.1</td>\n",
              "      <td>0</td>\n",
              "    </tr>\n",
              "  </tbody>\n",
              "</table>\n",
              "</div>"
            ],
            "text/plain": [
              "   age          job   marital  ... euribor3m nr_employed  y\n",
              "0   44  blue-collar   married  ...     4.963      5228.1  0\n",
              "1   53   technician   married  ...     4.021      5195.8  0\n",
              "2   28   management    single  ...     0.729      4991.6  1\n",
              "3   39     services   married  ...     1.405      5099.1  0\n",
              "4   55      retired   married  ...     0.869      5076.2  1\n",
              "5   30   management  divorced  ...     4.961      5228.1  0\n",
              "6   37  blue-collar   married  ...     1.327      5099.1  0\n",
              "7   39  blue-collar  divorced  ...     1.313      5099.1  0\n",
              "8   36       admin.   married  ...     1.266      5076.2  1\n",
              "9   27  blue-collar    single  ...     1.410      5099.1  0\n",
              "\n",
              "[10 rows x 21 columns]"
            ]
          },
          "metadata": {
            "tags": []
          },
          "execution_count": 3
        }
      ]
    },
    {
      "cell_type": "code",
      "metadata": {
        "colab": {
          "base_uri": "https://localhost:8080/"
        },
        "id": "Bayi4AZgB1Qx",
        "outputId": "af40a49a-0110-4b7d-be6a-065c461fa5b0"
      },
      "source": [
        "#3\n",
        "\n",
        "print(\"le nombre de client de class 1: \",len(df[df['y']==1]))\n",
        "print(\"le nombre de client de class 0: \",len(df[df['y']==0]))"
      ],
      "execution_count": null,
      "outputs": [
        {
          "output_type": "stream",
          "text": [
            "le nombre de client de class 1:  4640\n",
            "le nombre de client de class 0:  36548\n"
          ],
          "name": "stdout"
        }
      ]
    },
    {
      "cell_type": "markdown",
      "metadata": {
        "id": "e9r8kpxWB1Qz"
      },
      "source": [
        "### 2- Entrainement et test du modèle\n",
        "Dans un premier lieux, nous allons utiliser comme critères de classifiction suivants:\n",
        "\"age\": l'age du client\n",
        "\"emp_var_rate\": employment variation rate\n",
        "\"cons_conf_idx\": consumer confidence index\n",
        "\n",
        "1- Creer deux numpy array X et y\n",
        "\n",
        "X: les trois colonne \"age\",\"emp_var_rate\" et \"cons_conf_idx\"\n",
        "\n",
        "y: \"y\"\n",
        "\n",
        "2- Nous allons utiliser **80%** du dataSet pour l'entrainement et **20%** pour le teste du modèle. utiliser la méthode **train_test_split()** du module **sklearn.model_selection** pour créer ces deux sous ensembles (X_train,X_test,y_train,y_test).\n",
        "\n",
        "3- Creer un objet **LogisticRegression** du module **sklearn.linear_model** et utiliser **(X_train,y_train)** pour entrainer le model à l'aide la méthode **fit()** du même objet.\n",
        "\n",
        "4- Utiliser la méthode **predict(X_test)** pour predire les classe des élément de X_test : y_pred\n",
        "\n",
        "5- Les performences du modele sont alors mesurer à l'aide 4 metriques:\n",
        "**TP: Nombre de True positives y_test==y_pred==1**\n",
        "\n",
        "**TN: Nombre de True negatives y_test==y_pred==0**\n",
        "\n",
        "**FP: Nombre de False positives y_test!=y_pred==1**\n",
        "\n",
        "**FN: Nombre de False negatives y_test!=y_pred==0**\n",
        "\n",
        "\n",
        "**$$Accuracy = (TP+TN)/(TP+TN+FP+FN) $$**\n",
        "\n",
        "Calculer la precision de ce modèle?\n",
        "\n",
        "6- Ces 4 metriques forment ce qu'on appel une **Confusion Matrix** disponible comme méthode dans le module **sklearn.metrics** :  **Confusion Matrix(y_test, y_pred)**\n",
        "\n",
        "Recalculer precision de ce modèle on utilisant cette matrice de confusion"
      ]
    },
    {
      "cell_type": "code",
      "metadata": {
        "colab": {
          "base_uri": "https://localhost:8080/",
          "height": 298
        },
        "id": "kP02brldB1Q0",
        "outputId": "9932eddd-f63b-419f-be50-0bf7fcb0b566"
      },
      "source": [
        "import matplotlib.pyplot as plt\n",
        "import seaborn as sns\n",
        "sns.set(font_scale=1.5)\n",
        "countplt=sns.countplot(x='y', data=df, palette ='hls')\n",
        "plt.show()"
      ],
      "execution_count": null,
      "outputs": [
        {
          "output_type": "display_data",
          "data": {
            "image/png": "[encoded data removed]",
            "text/plain": [
              "<Figure size 432x288 with 1 Axes>"
            ]
          },
          "metadata": {
            "tags": []
          }
        }
      ]
    },
    {
      "cell_type": "code",
      "metadata": {
        "colab": {
          "base_uri": "https://localhost:8080/"
        },
        "id": "v4c9xYVOB1Q1",
        "outputId": "46fb3f13-4d43-4e5a-9ec9-5b575930f060"
      },
      "source": [
        "count_no_sub = len(df[df['y']==0])\n",
        "count_no_sub"
      ],
      "execution_count": null,
      "outputs": [
        {
          "output_type": "execute_result",
          "data": {
            "text/plain": [
              "36548"
            ]
          },
          "metadata": {
            "tags": []
          },
          "execution_count": 6
        }
      ]
    },
    {
      "cell_type": "code",
      "metadata": {
        "colab": {
          "base_uri": "https://localhost:8080/"
        },
        "id": "PSk0NZXSB1Q2",
        "outputId": "77c72c82-162e-499d-95cb-7180b4ca09fa"
      },
      "source": [
        "count_sub = len(df[df['y']==1])\n",
        "count_sub"
      ],
      "execution_count": null,
      "outputs": [
        {
          "output_type": "execute_result",
          "data": {
            "text/plain": [
              "4640"
            ]
          },
          "metadata": {
            "tags": []
          },
          "execution_count": 8
        }
      ]
    },
    {
      "cell_type": "code",
      "metadata": {
        "colab": {
          "base_uri": "https://localhost:8080/",
          "height": 419
        },
        "id": "b60omhC4B1Q3",
        "outputId": "a0ccd341-5744-4fa4-c4b8-074486f62dfb"
      },
      "source": [
        "x=df[['age','emp_var_rate','cons_conf_idx']]\n",
        "y=df['y']\n",
        "x"
      ],
      "execution_count": null,
      "outputs": [
        {
          "output_type": "execute_result",
          "data": {
            "text/html": [
              "<div>\n",
              "<style scoped>\n",
              "    .dataframe tbody tr th:only-of-type {\n",
              "        vertical-align: middle;\n",
              "    }\n",
              "\n",
              "    .dataframe tbody tr th {\n",
              "        vertical-align: top;\n",
              "    }\n",
              "\n",
              "    .dataframe thead th {\n",
              "        text-align: right;\n",
              "    }\n",
              "</style>\n",
              "<table border=\"1\" class=\"dataframe\">\n",
              "  <thead>\n",
              "    <tr style=\"text-align: right;\">\n",
              "      <th></th>\n",
              "      <th>age</th>\n",
              "      <th>emp_var_rate</th>\n",
              "      <th>cons_conf_idx</th>\n",
              "    </tr>\n",
              "  </thead>\n",
              "  <tbody>\n",
              "    <tr>\n",
              "      <th>0</th>\n",
              "      <td>44</td>\n",
              "      <td>1.4</td>\n",
              "      <td>-36.1</td>\n",
              "    </tr>\n",
              "    <tr>\n",
              "      <th>1</th>\n",
              "      <td>53</td>\n",
              "      <td>-0.1</td>\n",
              "      <td>-42.0</td>\n",
              "    </tr>\n",
              "    <tr>\n",
              "      <th>2</th>\n",
              "      <td>28</td>\n",
              "      <td>-1.7</td>\n",
              "      <td>-39.8</td>\n",
              "    </tr>\n",
              "    <tr>\n",
              "      <th>3</th>\n",
              "      <td>39</td>\n",
              "      <td>-1.8</td>\n",
              "      <td>-47.1</td>\n",
              "    </tr>\n",
              "    <tr>\n",
              "      <th>4</th>\n",
              "      <td>55</td>\n",
              "      <td>-2.9</td>\n",
              "      <td>-31.4</td>\n",
              "    </tr>\n",
              "    <tr>\n",
              "      <th>...</th>\n",
              "      <td>...</td>\n",
              "      <td>...</td>\n",
              "      <td>...</td>\n",
              "    </tr>\n",
              "    <tr>\n",
              "      <th>41183</th>\n",
              "      <td>59</td>\n",
              "      <td>1.4</td>\n",
              "      <td>-41.8</td>\n",
              "    </tr>\n",
              "    <tr>\n",
              "      <th>41184</th>\n",
              "      <td>31</td>\n",
              "      <td>1.1</td>\n",
              "      <td>-36.4</td>\n",
              "    </tr>\n",
              "    <tr>\n",
              "      <th>41185</th>\n",
              "      <td>42</td>\n",
              "      <td>1.1</td>\n",
              "      <td>-36.4</td>\n",
              "    </tr>\n",
              "    <tr>\n",
              "      <th>41186</th>\n",
              "      <td>48</td>\n",
              "      <td>-3.4</td>\n",
              "      <td>-26.9</td>\n",
              "    </tr>\n",
              "    <tr>\n",
              "      <th>41187</th>\n",
              "      <td>25</td>\n",
              "      <td>1.1</td>\n",
              "      <td>-36.4</td>\n",
              "    </tr>\n",
              "  </tbody>\n",
              "</table>\n",
              "<p>41188 rows × 3 columns</p>\n",
              "</div>"
            ],
            "text/plain": [
              "       age  emp_var_rate  cons_conf_idx\n",
              "0       44           1.4          -36.1\n",
              "1       53          -0.1          -42.0\n",
              "2       28          -1.7          -39.8\n",
              "3       39          -1.8          -47.1\n",
              "4       55          -2.9          -31.4\n",
              "...    ...           ...            ...\n",
              "41183   59           1.4          -41.8\n",
              "41184   31           1.1          -36.4\n",
              "41185   42           1.1          -36.4\n",
              "41186   48          -3.4          -26.9\n",
              "41187   25           1.1          -36.4\n",
              "\n",
              "[41188 rows x 3 columns]"
            ]
          },
          "metadata": {
            "tags": []
          },
          "execution_count": 9
        }
      ]
    },
    {
      "cell_type": "code",
      "metadata": {
        "id": "zQxu4AeJB1Q4"
      },
      "source": [
        ""
      ],
      "execution_count": 64,
      "outputs": []
    },
    {
      "cell_type": "code",
      "metadata": {
        "id": "u8Tkb1tMB1Q4"
      },
      "source": [
        "from sklearn.linear_model import LogisticRegression\n",
        "from sklearn.model_selection import train_test_split\n",
        "X_train, X_test, y_train, y_test = train_test_split( x, y, test_size=0.2)"
      ],
      "execution_count": null,
      "outputs": []
    },
    {
      "cell_type": "code",
      "metadata": {
        "id": "Otze-mkGB1Q5"
      },
      "source": [
        "my_model = LogisticRegression(solver='lbfgs').fit(X_train, y_train)"
      ],
      "execution_count": null,
      "outputs": []
    },
    {
      "cell_type": "code",
      "metadata": {
        "colab": {
          "base_uri": "https://localhost:8080/"
        },
        "id": "MYXbilKeB1Q6",
        "outputId": "c0ec9c9e-df0e-464e-8c5e-1d2eba3b8ef0"
      },
      "source": [
        "print(my_model.predict(X_test))\n",
        "print(sum(my_model.predict(X_test)))\n",
        "y_predict=my_model.predict(X_test)"
      ],
      "execution_count": 51,
      "outputs": [
        {
          "output_type": "stream",
          "text": [
            "[0 0 0 ... 0 0 0]\n",
            "94\n"
          ],
          "name": "stdout"
        }
      ]
    },
    {
      "cell_type": "code",
      "metadata": {
        "colab": {
          "base_uri": "https://localhost:8080/"
        },
        "id": "-RzmOomSB1Q7",
        "outputId": "dfd67894-2431-47e2-e2b5-3bfc84bec796"
      },
      "source": [
        "#Les performences du modele\n",
        "from sklearn.metrics import confusion_matrix\n",
        "from sklearn.metrics import accuracy_score\n",
        "\n",
        "my_score=accuracy_score(y_test,y_predict)\n",
        "my_score"
      ],
      "execution_count": null,
      "outputs": [
        {
          "output_type": "execute_result",
          "data": {
            "text/plain": [
              "0.8823743627093955"
            ]
          },
          "metadata": {
            "tags": []
          },
          "execution_count": 16
        }
      ]
    },
    {
      "cell_type": "code",
      "metadata": {
        "colab": {
          "base_uri": "https://localhost:8080/"
        },
        "id": "bLps6iOvDsNu",
        "outputId": "34e5ddb9-e0ca-48c8-aa34-10c3115dc1c0"
      },
      "source": [
        "#confusion matrix matrix manuell\n",
        "def confusion_matrix(y_test, y_predict):\n",
        "\n",
        "    classes = np.unique(y_test)\n",
        "    matrix = np.zeros((len(classes), len(classes))) \n",
        "    for i in range(len(classes)):\n",
        "        for j in range(len(classes)):\n",
        "            matrix[i, j] = np.sum((y_test == classes[i]) & (y_predict == classes[j]))\n",
        "    return matrix\n",
        "confusion_matrix(y_test, y_predict)\n"
      ],
      "execution_count": 46,
      "outputs": [
        {
          "output_type": "execute_result",
          "data": {
            "text/plain": [
              "array([[7235.,   60.],\n",
              "       [ 909.,   34.]])"
            ]
          },
          "metadata": {
            "tags": []
          },
          "execution_count": 46
        }
      ]
    },
    {
      "cell_type": "code",
      "metadata": {
        "colab": {
          "base_uri": "https://localhost:8080/"
        },
        "id": "2GHTdcOPB1Q8",
        "outputId": "ee7b76ea-6f37-48e0-b5dd-e6b6ab6a9d49"
      },
      "source": [
        "#confusion matrix matrix direct\n",
        "my_confusion=confusion_matrix(y_test,y_predict)\n",
        "my_confusion"
      ],
      "execution_count": 48,
      "outputs": [
        {
          "output_type": "execute_result",
          "data": {
            "text/plain": [
              "array([[7235.,   60.],\n",
              "       [ 909.,   34.]])"
            ]
          },
          "metadata": {
            "tags": []
          },
          "execution_count": 48
        }
      ]
    },
    {
      "cell_type": "code",
      "metadata": {
        "colab": {
          "base_uri": "https://localhost:8080/"
        },
        "id": "DdpPzhC5JbKc",
        "outputId": "4453c329-e023-405c-8423-dcab062186e0"
      },
      "source": [
        "#Q6\n",
        "#Les performences du modele manualley\n",
        "#Accuracy=(TP+TN)/(TP+TN+FP+FN)\n",
        "Accuracy=(my_confusion[0][0]+my_confusion[0][1])/(np.sum(my_confusion))\n",
        "print(Accuracy)"
      ],
      "execution_count": 53,
      "outputs": [
        {
          "output_type": "stream",
          "text": [
            "0.8855304685603301\n"
          ],
          "name": "stdout"
        }
      ]
    },
    {
      "cell_type": "markdown",
      "metadata": {
        "id": "za9YYLyRB1Q8"
      },
      "source": [
        "### 3- prediction\n",
        "Voici des information de trois clients:\n",
        "\n",
        "client1:  {\"age\": 55, \"emp_var_rate\": -2.9, \"cons_conf_idx\": 31.4}\n",
        "\n",
        "client2:  {\"age\": 45, \"emp_var_rate\": 3.7,\"cons_conf_idx\": 4}\n",
        "\n",
        "client3:  {\"age\": 39, \"emp_var_rate\": 3.3,\"cons_conf_idx\": 6}\n",
        "\n",
        "1- Créer un DataFrame à partir de ce données\n",
        "\n",
        "2- Lequel de ces client souscrira à un dépôt à terme"
      ]
    },
    {
      "cell_type": "code",
      "metadata": {
        "id": "jmGFx3ZeB1Q9",
        "colab": {
          "base_uri": "https://localhost:8080/",
          "height": 142
        },
        "outputId": "3e373140-83ec-44fa-95f1-e5ba06ed62c4"
      },
      "source": [
        "#1\n",
        "clients=[{\"age\": 55, \"emp_var_rate\": -2.9, \"cons_conf_idx\": 31.4},{\"age\": 45, \"emp_var_rate\": 3.7,\"cons_conf_idx\": 4},{\"age\": 39, \"emp_var_rate\": 3.3,\"cons_conf_idx\": 6}]\n",
        "\n",
        "predict_client=pd.DataFrame(clients)\n",
        "\n",
        "predict_client\n"
      ],
      "execution_count": 49,
      "outputs": [
        {
          "output_type": "execute_result",
          "data": {
            "text/html": [
              "<div>\n",
              "<style scoped>\n",
              "    .dataframe tbody tr th:only-of-type {\n",
              "        vertical-align: middle;\n",
              "    }\n",
              "\n",
              "    .dataframe tbody tr th {\n",
              "        vertical-align: top;\n",
              "    }\n",
              "\n",
              "    .dataframe thead th {\n",
              "        text-align: right;\n",
              "    }\n",
              "</style>\n",
              "<table border=\"1\" class=\"dataframe\">\n",
              "  <thead>\n",
              "    <tr style=\"text-align: right;\">\n",
              "      <th></th>\n",
              "      <th>age</th>\n",
              "      <th>emp_var_rate</th>\n",
              "      <th>cons_conf_idx</th>\n",
              "    </tr>\n",
              "  </thead>\n",
              "  <tbody>\n",
              "    <tr>\n",
              "      <th>0</th>\n",
              "      <td>55</td>\n",
              "      <td>-2.9</td>\n",
              "      <td>31.4</td>\n",
              "    </tr>\n",
              "    <tr>\n",
              "      <th>1</th>\n",
              "      <td>45</td>\n",
              "      <td>3.7</td>\n",
              "      <td>4.0</td>\n",
              "    </tr>\n",
              "    <tr>\n",
              "      <th>2</th>\n",
              "      <td>39</td>\n",
              "      <td>3.3</td>\n",
              "      <td>6.0</td>\n",
              "    </tr>\n",
              "  </tbody>\n",
              "</table>\n",
              "</div>"
            ],
            "text/plain": [
              "   age  emp_var_rate  cons_conf_idx\n",
              "0   55          -2.9           31.4\n",
              "1   45           3.7            4.0\n",
              "2   39           3.3            6.0"
            ]
          },
          "metadata": {
            "tags": []
          },
          "execution_count": 49
        }
      ]
    },
    {
      "cell_type": "code",
      "metadata": {
        "id": "IdNtnqgnB1Q-",
        "colab": {
          "base_uri": "https://localhost:8080/"
        },
        "outputId": "1e2ead43-ac46-4dab-c249-8985b5d16e19"
      },
      "source": [
        "my_model.predict(predict_client)\n",
        "#2\n",
        "print(\"le client : 3\")"
      ],
      "execution_count": 50,
      "outputs": [
        {
          "output_type": "stream",
          "text": [
            "le client : 3\n"
          ],
          "name": "stdout"
        }
      ]
    },
    {
      "cell_type": "code",
      "metadata": {
        "colab": {
          "base_uri": "https://localhost:8080/",
          "height": 419
        },
        "id": "rhIWYwfZK_pQ",
        "outputId": "530c62cc-c1b2-433c-9aba-c60c86b0006a"
      },
      "source": [
        "#on ajoutan un autro variable age\n",
        "x=df[['age','emp_var_rate','cons_conf_idx','age']]\n",
        "y=df['y']\n",
        "x"
      ],
      "execution_count": 55,
      "outputs": [
        {
          "output_type": "execute_result",
          "data": {
            "text/html": [
              "<div>\n",
              "<style scoped>\n",
              "    .dataframe tbody tr th:only-of-type {\n",
              "        vertical-align: middle;\n",
              "    }\n",
              "\n",
              "    .dataframe tbody tr th {\n",
              "        vertical-align: top;\n",
              "    }\n",
              "\n",
              "    .dataframe thead th {\n",
              "        text-align: right;\n",
              "    }\n",
              "</style>\n",
              "<table border=\"1\" class=\"dataframe\">\n",
              "  <thead>\n",
              "    <tr style=\"text-align: right;\">\n",
              "      <th></th>\n",
              "      <th>age</th>\n",
              "      <th>emp_var_rate</th>\n",
              "      <th>cons_conf_idx</th>\n",
              "      <th>age</th>\n",
              "    </tr>\n",
              "  </thead>\n",
              "  <tbody>\n",
              "    <tr>\n",
              "      <th>0</th>\n",
              "      <td>44</td>\n",
              "      <td>1.4</td>\n",
              "      <td>-36.1</td>\n",
              "      <td>44</td>\n",
              "    </tr>\n",
              "    <tr>\n",
              "      <th>1</th>\n",
              "      <td>53</td>\n",
              "      <td>-0.1</td>\n",
              "      <td>-42.0</td>\n",
              "      <td>53</td>\n",
              "    </tr>\n",
              "    <tr>\n",
              "      <th>2</th>\n",
              "      <td>28</td>\n",
              "      <td>-1.7</td>\n",
              "      <td>-39.8</td>\n",
              "      <td>28</td>\n",
              "    </tr>\n",
              "    <tr>\n",
              "      <th>3</th>\n",
              "      <td>39</td>\n",
              "      <td>-1.8</td>\n",
              "      <td>-47.1</td>\n",
              "      <td>39</td>\n",
              "    </tr>\n",
              "    <tr>\n",
              "      <th>4</th>\n",
              "      <td>55</td>\n",
              "      <td>-2.9</td>\n",
              "      <td>-31.4</td>\n",
              "      <td>55</td>\n",
              "    </tr>\n",
              "    <tr>\n",
              "      <th>...</th>\n",
              "      <td>...</td>\n",
              "      <td>...</td>\n",
              "      <td>...</td>\n",
              "      <td>...</td>\n",
              "    </tr>\n",
              "    <tr>\n",
              "      <th>41183</th>\n",
              "      <td>59</td>\n",
              "      <td>1.4</td>\n",
              "      <td>-41.8</td>\n",
              "      <td>59</td>\n",
              "    </tr>\n",
              "    <tr>\n",
              "      <th>41184</th>\n",
              "      <td>31</td>\n",
              "      <td>1.1</td>\n",
              "      <td>-36.4</td>\n",
              "      <td>31</td>\n",
              "    </tr>\n",
              "    <tr>\n",
              "      <th>41185</th>\n",
              "      <td>42</td>\n",
              "      <td>1.1</td>\n",
              "      <td>-36.4</td>\n",
              "      <td>42</td>\n",
              "    </tr>\n",
              "    <tr>\n",
              "      <th>41186</th>\n",
              "      <td>48</td>\n",
              "      <td>-3.4</td>\n",
              "      <td>-26.9</td>\n",
              "      <td>48</td>\n",
              "    </tr>\n",
              "    <tr>\n",
              "      <th>41187</th>\n",
              "      <td>25</td>\n",
              "      <td>1.1</td>\n",
              "      <td>-36.4</td>\n",
              "      <td>25</td>\n",
              "    </tr>\n",
              "  </tbody>\n",
              "</table>\n",
              "<p>41188 rows × 4 columns</p>\n",
              "</div>"
            ],
            "text/plain": [
              "       age  emp_var_rate  cons_conf_idx  age\n",
              "0       44           1.4          -36.1   44\n",
              "1       53          -0.1          -42.0   53\n",
              "2       28          -1.7          -39.8   28\n",
              "3       39          -1.8          -47.1   39\n",
              "4       55          -2.9          -31.4   55\n",
              "...    ...           ...            ...  ...\n",
              "41183   59           1.4          -41.8   59\n",
              "41184   31           1.1          -36.4   31\n",
              "41185   42           1.1          -36.4   42\n",
              "41186   48          -3.4          -26.9   48\n",
              "41187   25           1.1          -36.4   25\n",
              "\n",
              "[41188 rows x 4 columns]"
            ]
          },
          "metadata": {
            "tags": []
          },
          "execution_count": 55
        }
      ]
    },
    {
      "cell_type": "code",
      "metadata": {
        "colab": {
          "base_uri": "https://localhost:8080/"
        },
        "id": "7sj1FrcZK_18",
        "outputId": "639d14a8-a830-4ded-c2ba-84ba30f99a69"
      },
      "source": [
        "X_train, X_test, y_train, y_test = train_test_split( x, y, test_size=0.2)\n",
        "my_model = LogisticRegression(solver='lbfgs').fit(X_train, y_train)\n",
        "print(my_model.predict(X_test))\n",
        "print(sum(my_model.predict(X_test)))\n",
        "y_predict=my_model.predict(X_test)\n",
        "\n"
      ],
      "execution_count": 64,
      "outputs": [
        {
          "output_type": "stream",
          "text": [
            "[0 0 0 ... 0 0 0]\n",
            "154\n"
          ],
          "name": "stdout"
        }
      ]
    },
    {
      "cell_type": "code",
      "metadata": {
        "colab": {
          "base_uri": "https://localhost:8080/"
        },
        "id": "lp0xP4iiLXsR",
        "outputId": "fc3cd2e0-88b5-47c7-e3c2-3380443ca84f"
      },
      "source": [
        "#Les performences du modele\n",
        "from sklearn.metrics import confusion_matrix\n",
        "from sklearn.metrics import accuracy_score\n",
        "\n",
        "my_score=accuracy_score(y_test,y_predict)\n",
        "my_score"
      ],
      "execution_count": 63,
      "outputs": [
        {
          "output_type": "execute_result",
          "data": {
            "text/plain": [
              "0.8824957513959699"
            ]
          },
          "metadata": {
            "tags": []
          },
          "execution_count": 63
        }
      ]
    },
    {
      "cell_type": "markdown",
      "metadata": {
        "id": "KqQsXsmZMfGO"
      },
      "source": [
        "**je remarque apres ajoute un 4'ieme atribu age l'accuracy ne pas augmente**"
      ]
    }
  ]
}